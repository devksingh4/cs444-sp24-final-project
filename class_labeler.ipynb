{
 "cells": [
  {
   "cell_type": "code",
   "execution_count": 1,
   "metadata": {},
   "outputs": [],
   "source": [
    "import pandas as pd\n",
    "train_df = pd.read_csv('./train_record_class.csv')\n",
    "val_df = pd.read_csv('./validation_record_class.csv')"
   ]
  },
  {
   "cell_type": "code",
   "execution_count": 5,
   "metadata": {},
   "outputs": [
    {
     "data": {
      "text/plain": [
       "<Axes: title={'center': 'Training Data Class Distr.'}, ylabel='count'>"
      ]
     },
     "execution_count": 5,
     "metadata": {},
     "output_type": "execute_result"
    },
    {
     "data": {
      "image/png": "[encoded data removed]",
      "text/plain": [
       "<Figure size 640x480 with 1 Axes>"
      ]
     },
     "metadata": {},
     "output_type": "display_data"
    }
   ],
   "source": [
    "train_df['contrails'].value_counts().plot(kind='pie', y='contrails', title='Training Data Class Distr.', autopct='%1.1f%%', \\\n",
    "                   shadow=True, startangle=0, labels=['Contrails Not Detected', 'Contrails Detected'])"
   ]
  },
  {
   "cell_type": "code",
   "execution_count": 6,
   "metadata": {},
   "outputs": [],
   "source": [
    "train_metadata = pd.read_json(\"/data/contrails/train_metadata.json\")\n"
   ]
  },
  {
   "cell_type": "code",
   "execution_count": 8,
   "metadata": {},
   "outputs": [],
   "source": [
    "train_metadata = train_metadata.merge(train_df, how='inner', on='record_id')"
   ]
  },
  {
   "cell_type": "code",
   "execution_count": 10,
   "metadata": {},
   "outputs": [
    {
     "data": {
      "text/html": [
       "<div>\n",
       "<style scoped>\n",
       "    .dataframe tbody tr th:only-of-type {\n",
       "        vertical-align: middle;\n",
       "    }\n",
       "\n",
       "    .dataframe tbody tr th {\n",
       "        vertical-align: top;\n",
       "    }\n",
       "\n",
       "    .dataframe thead th {\n",
       "        text-align: right;\n",
       "    }\n",
       "</style>\n",
       "<table border=\"1\" class=\"dataframe\">\n",
       "  <thead>\n",
       "    <tr style=\"text-align: right;\">\n",
       "      <th></th>\n",
       "      <th>record_id</th>\n",
       "      <th>projection_wkt</th>\n",
       "      <th>row_min</th>\n",
       "      <th>row_size</th>\n",
       "      <th>col_min</th>\n",
       "      <th>col_size</th>\n",
       "      <th>timestamp</th>\n",
       "      <th>Unnamed: 0</th>\n",
       "      <th>contrails</th>\n",
       "    </tr>\n",
       "  </thead>\n",
       "  <tbody>\n",
       "    <tr>\n",
       "      <th>0</th>\n",
       "      <td>8597889304036849</td>\n",
       "      <td>PROJCS[\"unknown\",GEOGCS[\"unknown\",DATUM[\"WGS_1...</td>\n",
       "      <td>3185788.50</td>\n",
       "      <td>-1993.162720</td>\n",
       "      <td>460264.593750</td>\n",
       "      <td>1924.312012</td>\n",
       "      <td>2019-10-16 00:00:00</td>\n",
       "      <td>7426</td>\n",
       "      <td>True</td>\n",
       "    </tr>\n",
       "    <tr>\n",
       "      <th>4</th>\n",
       "      <td>3756385224136513536</td>\n",
       "      <td>PROJCS[\"unknown\",GEOGCS[\"unknown\",DATUM[\"WGS_1...</td>\n",
       "      <td>3989159.25</td>\n",
       "      <td>-1984.412109</td>\n",
       "      <td>337666.281250</td>\n",
       "      <td>1937.269531</td>\n",
       "      <td>2019-04-30 16:40:00</td>\n",
       "      <td>18046</td>\n",
       "      <td>True</td>\n",
       "    </tr>\n",
       "    <tr>\n",
       "      <th>10</th>\n",
       "      <td>12856243943391336</td>\n",
       "      <td>PROJCS[\"unknown\",GEOGCS[\"unknown\",DATUM[\"WGS_1...</td>\n",
       "      <td>4690556.00</td>\n",
       "      <td>-2036.094971</td>\n",
       "      <td>503230.187500</td>\n",
       "      <td>1890.910767</td>\n",
       "      <td>2019-10-29 09:20:00</td>\n",
       "      <td>16527</td>\n",
       "      <td>True</td>\n",
       "    </tr>\n",
       "    <tr>\n",
       "      <th>14</th>\n",
       "      <td>5695561647587146752</td>\n",
       "      <td>PROJCS[\"unknown\",GEOGCS[\"unknown\",DATUM[\"WGS_1...</td>\n",
       "      <td>4190788.75</td>\n",
       "      <td>-2030.042847</td>\n",
       "      <td>535758.250000</td>\n",
       "      <td>1894.335449</td>\n",
       "      <td>2019-10-14 14:00:00</td>\n",
       "      <td>3331</td>\n",
       "      <td>True</td>\n",
       "    </tr>\n",
       "    <tr>\n",
       "      <th>16</th>\n",
       "      <td>3254562815602190848</td>\n",
       "      <td>PROJCS[\"unknown\",GEOGCS[\"unknown\",DATUM[\"WGS_1...</td>\n",
       "      <td>3179796.25</td>\n",
       "      <td>-1962.430298</td>\n",
       "      <td>260291.515625</td>\n",
       "      <td>1953.596924</td>\n",
       "      <td>2019-10-02 06:40:00</td>\n",
       "      <td>4712</td>\n",
       "      <td>True</td>\n",
       "    </tr>\n",
       "  </tbody>\n",
       "</table>\n",
       "</div>"
      ],
      "text/plain": [
       "              record_id                                     projection_wkt  \\\n",
       "0      8597889304036849  PROJCS[\"unknown\",GEOGCS[\"unknown\",DATUM[\"WGS_1...   \n",
       "4   3756385224136513536  PROJCS[\"unknown\",GEOGCS[\"unknown\",DATUM[\"WGS_1...   \n",
       "10    12856243943391336  PROJCS[\"unknown\",GEOGCS[\"unknown\",DATUM[\"WGS_1...   \n",
       "14  5695561647587146752  PROJCS[\"unknown\",GEOGCS[\"unknown\",DATUM[\"WGS_1...   \n",
       "16  3254562815602190848  PROJCS[\"unknown\",GEOGCS[\"unknown\",DATUM[\"WGS_1...   \n",
       "\n",
       "       row_min     row_size        col_min     col_size           timestamp  \\\n",
       "0   3185788.50 -1993.162720  460264.593750  1924.312012 2019-10-16 00:00:00   \n",
       "4   3989159.25 -1984.412109  337666.281250  1937.269531 2019-04-30 16:40:00   \n",
       "10  4690556.00 -2036.094971  503230.187500  1890.910767 2019-10-29 09:20:00   \n",
       "14  4190788.75 -2030.042847  535758.250000  1894.335449 2019-10-14 14:00:00   \n",
       "16  3179796.25 -1962.430298  260291.515625  1953.596924 2019-10-02 06:40:00   \n",
       "\n",
       "    Unnamed: 0  contrails  \n",
       "0         7426       True  \n",
       "4        18046       True  \n",
       "10       16527       True  \n",
       "14        3331       True  \n",
       "16        4712       True  "
      ]
     },
     "execution_count": 10,
     "metadata": {},
     "output_type": "execute_result"
    }
   ],
   "source": [
    "samples_with_contrails_df = train_metadata[train_metadata['contrails'] == True]\n",
    "samples_with_contrails_df.head()"
   ]
  }
 ],
 "metadata": {
  "kernelspec": {
   "display_name": "Python 3",
   "language": "python",
   "name": "python3"
  },
  "language_info": {
   "codemirror_mode": {
    "name": "ipython",
    "version": 3
   },
   "file_extension": ".py",
   "mimetype": "text/x-python",
   "name": "python",
   "nbconvert_exporter": "python",
   "pygments_lexer": "ipython3",
   "version": "3.11.5"
  }
 },
 "nbformat": 4,
 "nbformat_minor": 2
}
